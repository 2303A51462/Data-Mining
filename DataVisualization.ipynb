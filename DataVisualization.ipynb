{
  "nbformat": 4,
  "nbformat_minor": 0,
  "metadata": {
    "colab": {
      "provenance": [],
      "authorship_tag": "ABX9TyPxavaqRYEhhB94EPGj4zXf",
      "include_colab_link": true
    },
    "kernelspec": {
      "name": "python3",
      "display_name": "Python 3"
    },
    "language_info": {
      "name": "python"
    }
  },
  "cells": [
    {
      "cell_type": "markdown",
      "metadata": {
        "id": "view-in-github",
        "colab_type": "text"
      },
      "source": [
        "<a href=\"https://colab.research.google.com/github/2303A51462/Data-Mining/blob/main/DataVisualization.ipynb\" target=\"_parent\"><img src=\"https://colab.research.google.com/assets/colab-badge.svg\" alt=\"Open In Colab\"/></a>"
      ]
    },
    {
      "cell_type": "code",
      "execution_count": null,
      "metadata": {
        "colab": {
          "base_uri": "https://localhost:8080/"
        },
        "id": "a-ySibwohYlW",
        "outputId": "318acfc4-9c7b-4691-8520-0efbf01b447f"
      },
      "outputs": [
        {
          "output_type": "stream",
          "name": "stdout",
          "text": [
            "  Category\n",
            "0        A\n",
            "1        B\n",
            "2        C\n",
            "3        A\n",
            "4        B\n"
          ]
        },
        {
          "output_type": "execute_result",
          "data": {
            "text/plain": [
              "dict"
            ]
          },
          "metadata": {},
          "execution_count": 4
        }
      ],
      "source": [
        "import pandas as pd\n",
        "from sklearn.preprocessing import LabelEncoder, OneHotEncoder\n",
        "#Example data\n",
        "data = {'Category' :['A','B','C','A','B'] }\n",
        "df = pd.DataFrame(data)\n",
        "print(df)\n",
        "type(data)"
      ]
    },
    {
      "cell_type": "code",
      "source": [
        "#Label Encoding\n",
        "label_encoder = LabelEncoder()\n",
        "df['Label_Encoded'] = label_encoder.fit_transform(df['Category'])\n",
        "print(df)"
      ],
      "metadata": {
        "colab": {
          "base_uri": "https://localhost:8080/"
        },
        "id": "Ji69fxnylQMa",
        "outputId": "c4a97f37-8500-4ae7-c717-5e7bfe041376"
      },
      "execution_count": null,
      "outputs": [
        {
          "output_type": "stream",
          "name": "stdout",
          "text": [
            "  Category  Label_Encoded\n",
            "0        A              0\n",
            "1        B              1\n",
            "2        C              2\n",
            "3        A              0\n",
            "4        B              1\n"
          ]
        }
      ]
    },
    {
      "cell_type": "code",
      "source": [
        "#One-Hot Encoding\n",
        "one_hot_encoder = pd.get_dummies(df['Category'], prefix='Category')\n",
        "df = pd.concat([df, one_hot_encoder], axis=1)\n",
        "print(df)"
      ],
      "metadata": {
        "colab": {
          "base_uri": "https://localhost:8080/"
        },
        "id": "iLUqSR11lWxc",
        "outputId": "3cb73a48-8430-4965-b966-369c92ce4f90"
      },
      "execution_count": null,
      "outputs": [
        {
          "output_type": "stream",
          "name": "stdout",
          "text": [
            "  Category  Label_Encoded  Category_A  Category_B  Category_C\n",
            "0        A              0        True       False       False\n",
            "1        B              1       False        True       False\n",
            "2        C              2       False       False        True\n",
            "3        A              0        True       False       False\n",
            "4        B              1       False        True       False\n"
          ]
        }
      ]
    },
    {
      "cell_type": "code",
      "source": [
        "from datetime import datetime\n",
        "#example data\n",
        "data = {'Name':['Sindhu','Pragna','sanjana','pravalika'],'Date_of_Birth':['2005-07-02','2006-03-31','2005-04-11','2005-02-10']}\n",
        "df = pd.DataFrame(data)\n",
        "print(df)"
      ],
      "metadata": {
        "colab": {
          "base_uri": "https://localhost:8080/"
        },
        "id": "kkwye5BKnRRw",
        "outputId": "7ddb5a65-e822-439b-c12e-3db635dcbd91"
      },
      "execution_count": null,
      "outputs": [
        {
          "output_type": "stream",
          "name": "stdout",
          "text": [
            "        Name Date_of_Birth\n",
            "0     Sindhu    2005-07-02\n",
            "1     Pragna    2006-03-31\n",
            "2    sanjana    2005-04-11\n",
            "3  pravalika    2005-02-10\n"
          ]
        }
      ]
    },
    {
      "cell_type": "code",
      "source": [
        "#convert Date of birth to datetime\n",
        "df['Date_of_Birth'] = pd.to_datetime(df['Date_of_Birth'])\n",
        "print(df)"
      ],
      "metadata": {
        "colab": {
          "base_uri": "https://localhost:8080/"
        },
        "id": "snpqR02JoOXx",
        "outputId": "efbe2cc7-0539-4289-c460-2a40dd353895"
      },
      "execution_count": null,
      "outputs": [
        {
          "output_type": "stream",
          "name": "stdout",
          "text": [
            "        Name Date_of_Birth\n",
            "0     Sindhu    2005-07-02\n",
            "1     Pragna    2006-03-31\n",
            "2    sanjana    2005-04-11\n",
            "3  pravalika    2005-02-10\n"
          ]
        }
      ]
    },
    {
      "cell_type": "code",
      "source": [
        "#calculate Age\n",
        "current_date = datetime.now().year\n",
        "df['Age'] = current_date - df['Date_of_Birth'].dt.year\n",
        "print(df)"
      ],
      "metadata": {
        "colab": {
          "base_uri": "https://localhost:8080/"
        },
        "id": "AjXWlnhZoZEF",
        "outputId": "72761923-c9f6-47a4-8712-4cd7a3ee57f1"
      },
      "execution_count": null,
      "outputs": [
        {
          "output_type": "stream",
          "name": "stdout",
          "text": [
            "        Name Date_of_Birth  Age\n",
            "0     Sindhu    2005-07-02   20\n",
            "1     Pragna    2006-03-31   19\n",
            "2    sanjana    2005-04-11   20\n",
            "3  pravalika    2005-02-10   20\n"
          ]
        }
      ]
    },
    {
      "cell_type": "code",
      "source": [
        "#example data\n",
        "data = {'Category':['A','A','B','B','C'],'Value':[10,20,10,30,40]}\n",
        "df = pd.DataFrame(data)\n",
        "print(df)"
      ],
      "metadata": {
        "colab": {
          "base_uri": "https://localhost:8080/"
        },
        "id": "MuGwaGJXrBPq",
        "outputId": "2f146d5b-6b6e-4817-9b86-d2d82b2e66b1"
      },
      "execution_count": null,
      "outputs": [
        {
          "output_type": "stream",
          "name": "stdout",
          "text": [
            "  Category  Value\n",
            "0        A     10\n",
            "1        A     20\n",
            "2        B     10\n",
            "3        B     30\n",
            "4        C     40\n"
          ]
        }
      ]
    },
    {
      "cell_type": "code",
      "source": [
        "#group by and aggregate\n",
        "grouped = df.groupby('Category').agg({'Value':['sum','mean']})\n",
        "print(\"Grouped Data:\\n\",grouped)"
      ],
      "metadata": {
        "colab": {
          "base_uri": "https://localhost:8080/"
        },
        "id": "zO5oB1vOsG5h",
        "outputId": "7507bc66-42ee-4c52-fc63-43a0c7c2e4be"
      },
      "execution_count": null,
      "outputs": [
        {
          "output_type": "stream",
          "name": "stdout",
          "text": [
            "Grouped Data:\n",
            "          Value      \n",
            "           sum  mean\n",
            "Category            \n",
            "A           30  15.0\n",
            "B           40  20.0\n",
            "C           40  40.0\n"
          ]
        }
      ]
    },
    {
      "cell_type": "code",
      "source": [
        "#Pivot table\n",
        "pivot = df.pivot_table(index='Category',values='Value',aggfunc=['sum','mean'])\n",
        "print(\"Pivot Table:\\n\",pivot)"
      ],
      "metadata": {
        "colab": {
          "base_uri": "https://localhost:8080/"
        },
        "id": "ABrFHYx-vQcK",
        "outputId": "9e652d31-d4cb-4109-be5d-e20b929c2fe8"
      },
      "execution_count": 24,
      "outputs": [
        {
          "output_type": "stream",
          "name": "stdout",
          "text": [
            "Pivot Table:\n",
            "            sum  mean\n",
            "         Value Value\n",
            "Category            \n",
            "A           30  15.0\n",
            "B           40  20.0\n",
            "C           40  40.0\n"
          ]
        }
      ]
    }
  ]
}